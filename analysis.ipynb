{
 "cells": [
  {
   "cell_type": "markdown",
   "metadata": {},
   "source": [
    "# Shahafster : Python Data Analysis"
   ]
  },
  {
   "cell_type": "markdown",
   "metadata": {},
   "source": [
    "### Connectiong To Database"
   ]
  },
  {
   "cell_type": "code",
   "execution_count": 8,
   "metadata": {},
   "outputs": [],
   "source": [
    "import mysql.connector\n",
    "import pandas as pd\n",
    "import numpy as np\n",
    "import matplotlib.pyplot as plt\n",
    "\n",
    "# -----------------------------------\n",
    "\n",
    "conn = mysql.connector.connect(user = \"root\", password = \"Sdan3189\", host = \"localhost\", database = \"shahafster\")\n",
    "cursor = conn.cursor()"
   ]
  },
  {
   "cell_type": "code",
   "execution_count": 16,
   "metadata": {},
   "outputs": [
    {
     "name": "stdout",
     "output_type": "stream",
     "text": [
      "                                                 Text    Moji    Label  \\\n",
      "0                           Hello World of #More Tags  128526  Private   \n",
      "1                                Hello World of #Tags  128526  General   \n",
      "2                                          media post  128526    Music   \n",
      "3                                Hello World of Music  128526    Music   \n",
      "4                                        Hello world        0  General   \n",
      "5                         one last time - should work       0  General   \n",
      "6                             one more time of testin       0  General   \n",
      "7                                     World of testin       0  General   \n",
      "8                                 Hello World of test       0  General   \n",
      "9                           Added new post alertifies       0  General   \n",
      "10      Just finished designing the Add New Label box       0  General   \n",
      "11                                                          0  General   \n",
      "12  Working on adding Mojis selection to backend b...       0  General   \n",
      "13  I have been delaying it for too long. Its curr...       0  General   \n",
      "14             Started a new design backend main user       0  General   \n",
      "15  Blog now works, next steps: include many more ...       0  General   \n",
      "16                                Lets Go! Back alive       0  General   \n",
      "17                                                WoW       0  General   \n",
      "\n",
      "            Time Stamp  \n",
      "0  2022-09-04 23:22:34  \n",
      "1  2022-09-04 23:21:40  \n",
      "2  2022-09-04 22:53:34  \n",
      "3  2022-09-04 22:51:43  \n",
      "4  2022-06-02 20:48:08  \n",
      "5  2022-06-02 20:19:11  \n",
      "6  2022-06-02 20:17:55  \n",
      "7  2022-06-02 20:17:20  \n",
      "8  2022-06-02 20:16:23  \n",
      "9  2022-06-02 16:07:52  \n",
      "10 2022-06-02 16:00:12  \n",
      "11 2022-06-02 01:44:41  \n",
      "12 2022-06-02 01:13:36  \n",
      "13 2022-06-02 01:07:23  \n",
      "14 2022-06-02 00:29:17  \n",
      "15 2022-06-01 23:10:05  \n",
      "16 2022-06-01 22:33:18  \n",
      "17 2022-06-01 16:25:21  \n"
     ]
    }
   ],
   "source": [
    "sql = \"SELECT c.Text, c.Moji, l.Name, c.TimeStamp FROM Comment as c INNER JOIN Label as l ON l.ID = c.Label_ID\"\n",
    "cursor.execute(sql)\n",
    "posts = pd.DataFrame(columns = ['Text', 'Moji', 'Label', 'Time Stamp'])\n",
    "for (text, moji, name, timestamp) in cursor:\n",
    "    row = [[text, moji, name, timestamp]]\n",
    "    posts = pd.concat([pd.DataFrame(row, columns = posts.columns), posts], ignore_index = True)\n",
    "\n",
    "print(posts)"
   ]
  },
  {
   "cell_type": "code",
   "execution_count": null,
   "metadata": {},
   "outputs": [],
   "source": []
  }
 ],
 "metadata": {
  "kernelspec": {
   "display_name": "Python 3.9.12 ('base')",
   "language": "python",
   "name": "python3"
  },
  "language_info": {
   "codemirror_mode": {
    "name": "ipython",
    "version": 3
   },
   "file_extension": ".py",
   "mimetype": "text/x-python",
   "name": "python",
   "nbconvert_exporter": "python",
   "pygments_lexer": "ipython3",
   "version": "3.9.12"
  },
  "orig_nbformat": 4,
  "vscode": {
   "interpreter": {
    "hash": "d2bab4b4d7102326cf8c6462206ee57af65e7f35d8011fc3ecac2407030782d5"
   }
  }
 },
 "nbformat": 4,
 "nbformat_minor": 2
}
